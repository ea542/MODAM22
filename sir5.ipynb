{
 "cells": [
  {
   "cell_type": "code",
   "execution_count": 3,
   "metadata": {},
   "outputs": [],
   "source": [
    "import numpy as np\n",
    "from matplotlib import pyplot as plt\n",
    "import ipywidgets as widgets\n",
    "from ipywidgets import interact\n",
    "%matplotlib inline\n"
   ]
  },
  {
   "cell_type": "code",
   "execution_count": null,
   "metadata": {},
   "outputs": [],
   "source": []
  },
  {
   "cell_type": "code",
   "execution_count": 35,
   "metadata": {},
   "outputs": [
    {
     "data": {
      "application/vnd.jupyter.widget-view+json": {
       "model_id": "8d93cf4eb79d4415b831495d30359f2e",
       "version_major": 2,
       "version_minor": 0
      },
      "text/plain": [
       "interactive(children=(IntSlider(value=100, description='I0', max=100000, step=100), IntSlider(value=0, descrip…"
      ]
     },
     "metadata": {},
     "output_type": "display_data"
    }
   ],
   "source": [
    "@interact(I0=(0, 100000, 100), R0=(0,1000000, 1000), T=(100, 1000, 1), gama=(0, 1, 0.01), rep=(1, 2, 0.1))\n",
    "def solve_SIR(I0=100, R0=0, T=500, gama=0.1, rep=1.5):\n",
    "    N = 1e7\n",
    "    S = np.zeros(T+1)\n",
    "    I = np.zeros(T+1)\n",
    "    R = np.zeros(T+1)\n",
    "    Z1 = np.zeros(T+1)\n",
    "    Z2 = np.zeros(T+1)\n",
    "    I[0] = I0\n",
    "    R[0] = R0\n",
    "    S[0] = N-I0-R0\n",
    "    beta = gama*rep\n",
    "    for t in range(T):\n",
    "        Z1[t+1] = beta*I[t]*S[t]/N\n",
    "        Z2[t+1] = gama*I[t]\n",
    "        S[t+1] = S[t]-Z1[t+1]\n",
    "        I[t+1] = I[t]+Z1[t+1]-Z2[t+1]\n",
    "        R[t+1] = R[t]+Z2[t+1]\n",
    "    \n",
    "    plt.figure(figsize=(20, 10))\n",
    "    ts = np.arange(T+1)\n",
    "    plt.plot(ts, S, 'blue', label='S')\n",
    "    plt.plot(ts, I, 'red', label='I')\n",
    "    plt.plot(ts, R, 'green', label='R')\n",
    "    plt.ylim(0, 10500000)\n",
    "\n",
    "    plt.ylabel('S, I, R')\n",
    "    plt.xlabel('dny')\n",
    "    plt.legend(loc='upper left')\n",
    "    \n",
    "    plt.twinx()\n",
    "    plt.ylim(0, 100000)\n",
    "    plt.plot(ts[1:], Z1[1:], 'r--', label='nově nakažení')\n",
    "    plt.ylabel('nově nakažení')\n",
    "    plt.title('SIR model')\n",
    "    plt.legend(loc='upper right')\n",
    "    plt.show()\n",
    "\n",
    "    "
   ]
  },
  {
   "cell_type": "code",
   "execution_count": null,
   "metadata": {},
   "outputs": [],
   "source": [
    "solve_SIR(1e7, 100, 0, 1000, 0.1, 1.5)"
   ]
  },
  {
   "cell_type": "code",
   "execution_count": null,
   "metadata": {},
   "outputs": [],
   "source": []
  }
 ],
 "metadata": {
  "kernelspec": {
   "display_name": "Python 3",
   "language": "python",
   "name": "python3"
  },
  "language_info": {
   "codemirror_mode": {
    "name": "ipython",
    "version": 3
   },
   "file_extension": ".py",
   "mimetype": "text/x-python",
   "name": "python",
   "nbconvert_exporter": "python",
   "pygments_lexer": "ipython3",
   "version": "3.8.10"
  }
 },
 "nbformat": 4,
 "nbformat_minor": 4
}
